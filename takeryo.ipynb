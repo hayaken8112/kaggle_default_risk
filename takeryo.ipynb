{
 "cells": [
  {
   "cell_type": "code",
   "execution_count": 74,
   "metadata": {},
   "outputs": [],
   "source": [
    "import pandas as pd\n",
    "import matplotlib.pyplot as plt\n",
    "import numpy as np\n",
    "import torch\n",
    "import torchvision\n",
    "import torch.nn as nn\n",
    "import torch.nn.functional as F\n",
    "import torch.optim as optim\n",
    "from sklearn import preprocessing"
   ]
  },
  {
   "cell_type": "code",
   "execution_count": 82,
   "metadata": {},
   "outputs": [],
   "source": [
    "#トレインデータをpandasで取得\n",
    "train_data = pd.read_csv(\"data/application_train.csv\")\n",
    "test_data =  pd.read_csv(\"data/application_test.csv\")"
   ]
  },
  {
   "cell_type": "code",
   "execution_count": 83,
   "metadata": {},
   "outputs": [],
   "source": [
    "#train_dataの２パターン項目をバイナリにする\n",
    "#性別をM→1, F→0\n",
    "#車を持ってたら→1, 持ってなかったら→0\n",
    "#不動産（Realty）持ってたら→1, 持ってなかったら→0\n",
    "train_data[\"CODE_GENDER\"] = np.where(train_data[\"CODE_GENDER\"]==\"M\", 1, 0)\n",
    "train_data[\"FLAG_OWN_CAR\"] = np.where(train_data[\"FLAG_OWN_CAR\"]==\"Y\", 1, 0)\n",
    "train_data[\"FLAG_OWN_REALTY\"] = np.where(train_data[\"FLAG_OWN_REALTY\"]==\"Y\", 1, 0)"
   ]
  },
  {
   "cell_type": "code",
   "execution_count": 81,
   "metadata": {},
   "outputs": [
    {
     "data": {
      "text/plain": [
       "<matplotlib.axes._subplots.AxesSubplot at 0x7f404cf4e908>"
      ]
     },
     "execution_count": 81,
     "metadata": {},
     "output_type": "execute_result"
    },
    {
     "data": {
      "image/png": "[encoded data removed]",
      "text/plain": [
       "<Figure size 432x288 with 1 Axes>"
      ]
     },
     "metadata": {},
     "output_type": "display_data"
    }
   ],
   "source": [
    "train_data.plot.scatter(x = \"AMT_INCOME_TOTAL\", y = \"TARGET\")"
   ]
  },
  {
   "cell_type": "code",
   "execution_count": 79,
   "metadata": {},
   "outputs": [],
   "source": [
    "#train_data= train_data[train_data.AMT_INCOME_TOTAL <= 0.8*10**8]"
   ]
  },
  {
   "cell_type": "code",
   "execution_count": 110,
   "metadata": {},
   "outputs": [],
   "source": [
    "#normalize data for neural network\n",
    "train_data[\"TARGET\"] = train_data[\"TARGET\"].values.astype(\"float\")\n",
    "train_data[\"CODE_GENDER\"] = train_data[\"CODE_GENDER\"].values.astype(\"float\")\n",
    "train_data[\"FLAG_OWN_CAR\"] = train_data[\"FLAG_OWN_CAR\"].values.astype(\"float\")\n",
    "train_data[\"FLAG_OWN_REALTY\"] = train_data[\"FLAG_OWN_REALTY\"].values.astype(\"float\")\n",
    "train_data[\"AMT_INCOME_TOTAL\"] = train_data[\"AMT_INCOME_TOTAL\"].values.astype(\"float\")\n",
    "x = train_data[[\"AMT_INCOME_TOTAL\"]].values.astype(\"float\")\n",
    "min_max_scaler = preprocessing.MinMaxScaler()\n",
    "x_scaled = min_max_scaler.fit_transform(x)\n",
    "train_data[\"AMT_INCOME_TOTAL\"] = pd.DataFrame(x_scaled)"
   ]
  },
  {
   "cell_type": "code",
   "execution_count": null,
   "metadata": {},
   "outputs": [
    {
     "name": "stdout",
     "output_type": "stream",
     "text": [
      "[1,     0] loss: 0.000\n",
      "[1, 10000] loss: 0.280\n",
      "[1, 20000] loss: 0.280\n",
      "[1, 30000] loss: 0.285\n",
      "[1, 40000] loss: 0.284\n",
      "[1, 50000] loss: 0.276\n",
      "[1, 60000] loss: 0.275\n",
      "[1, 70000] loss: 0.281\n",
      "[1, 80000] loss: 0.280\n",
      "[1, 90000] loss: 0.283\n",
      "[1, 100000] loss: 0.286\n",
      "[1, 110000] loss: 0.297\n",
      "[1, 120000] loss: 0.276\n",
      "[1, 130000] loss: 0.281\n",
      "[1, 140000] loss: 0.280\n",
      "[1, 150000] loss: 0.289\n",
      "[1, 160000] loss: 0.275\n",
      "[1, 170000] loss: 0.277\n",
      "[1, 180000] loss: 0.276\n"
     ]
    }
   ],
   "source": [
    "#difine neural network\n",
    "class Net(nn.Module):\n",
    "    def __init__(self):\n",
    "        super(Net, self).__init__()\n",
    "        self.fc1 = nn.Linear(4, 3)\n",
    "        self.fc2 = nn.Linear(3, 2)\n",
    "        self.fc3 = nn.Linear(2, 1)\n",
    "        \n",
    "    def forward(self, x):\n",
    "        x = F.relu(self.fc1(x))\n",
    "        x = F.relu(self.fc2(x))\n",
    "        x = F.sigmoid(self.fc3(x))\n",
    "        return x\n",
    "\n",
    "net = Net()\n",
    "softmax = nn.Softmax\n",
    "criterion = nn.BCELoss()\n",
    "optimizer = optim.SGD(net.parameters(), lr = 0.001, momentum = 0.9)\n",
    "running_loss = 0\n",
    "\n",
    "for epoch in range(2):\n",
    "    for i in range(len(train_data)):\n",
    "        inputs = torch.tensor([train_data.iloc[i, 3], train_data.iloc[i, 4], train_data.iloc[i, 5], train_data.iloc[i, 7]])\n",
    "        labels = torch.tensor([train_data.iloc[i, 1]])\n",
    "        optimizer.zero_grad()\n",
    "        outputs = net(inputs)\n",
    "        loss = criterion(outputs, labels)\n",
    "        loss.backward()\n",
    "        optimizer.step()\n",
    "        running_loss += loss.item()\n",
    "        if i %10000 == 0:\n",
    "            print('[%d, %5d] loss: %.3f' %\n",
    "                  (epoch + 1, i, running_loss / 10000))\n",
    "            running_loss = 0.0"
   ]
  },
  {
   "cell_type": "code",
   "execution_count": null,
   "metadata": {},
   "outputs": [],
   "source": []
  }
 ],
 "metadata": {
  "kernelspec": {
   "display_name": "Python 3",
   "language": "python",
   "name": "python3"
  },
  "language_info": {
   "codemirror_mode": {
    "name": "ipython",
    "version": 3
   },
   "file_extension": ".py",
   "mimetype": "text/x-python",
   "name": "python",
   "nbconvert_exporter": "python",
   "pygments_lexer": "ipython3",
   "version": "3.5.2"
  }
 },
 "nbformat": 4,
 "nbformat_minor": 2
}
