{
 "cells": [
  {
   "cell_type": "code",
   "execution_count": 45,
   "metadata": {},
   "outputs": [],
   "source": [
    "import sys\n",
    "import pandas as pd\n",
    "import matplotlib.pyplot as plt\n",
    "import numpy as np\n",
    "import torch\n",
    "import torchvision\n",
    "import torch.nn as nn\n",
    "import torch.nn.functional as F\n",
    "import torch.optim as optim\n",
    "from sklearn import preprocessing\n",
    "from sklearn.metrics import precision_score\n",
    "import os\n",
    "data_path = \"./data/\""
   ]
  },
  {
   "cell_type": "code",
   "execution_count": 46,
   "metadata": {},
   "outputs": [],
   "source": [
    "root_dir = \".\"\n",
    "\n",
    "def image_path(author, fig_id):\n",
    "    return os.path.join(root_dir, \"image\", user, fig_id)\n",
    "\n",
    "def save_fig(fig_id, tight_layout=True):\n",
    "    print(\"Saving figure\", fig_id)\n",
    "    if tight_layout:\n",
    "        plt.tight_layout()\n",
    "    plt.savefig(image_path(\"takeryo\", fig_id), \".png\", format=\"png\", dpi=300)\n",
    "    \n",
    "def replace_outlier(series, bias=1.5):\n",
    "    #四分位数\n",
    "    q1 = series.quantile(.25)\n",
    "    q3 = series.quantile(.75)\n",
    "    iqr = q3 - q1\n",
    "\n",
    "    #外れ値の基準点\n",
    "    outlier_min = q1 - (iqr) * bias\n",
    "    outlier_max = q3 + (iqr) * bias\n",
    "\n",
    "    print(\"outlier_min :\" + str(outlier_min) + \", outlier_max :\" + str(outlier_max))\n",
    "\n",
    "    #外れ値をクリップする\n",
    "    series = series.clip(outlier_min, outlier_max)\n",
    "    return series"
   ]
  },
  {
   "cell_type": "code",
   "execution_count": 47,
   "metadata": {},
   "outputs": [],
   "source": [
    "#トレインデータをpandasで取得\n",
    "train_data = pd.read_csv(\"data/application_train.csv\")\n",
    "test_data =  pd.read_csv(\"data/application_test.csv\")"
   ]
  },
  {
   "cell_type": "code",
   "execution_count": 48,
   "metadata": {},
   "outputs": [
    {
     "name": "stdout",
     "output_type": "stream",
     "text": [
      "outlier_min :-22500.0, outlier_max :337500.0\n"
     ]
    }
   ],
   "source": [
    "train_data[\"AMT_INCOME_TOTAL\"] = replace_outlier(train_data[\"AMT_INCOME_TOTAL\"])"
   ]
  },
  {
   "cell_type": "code",
   "execution_count": 49,
   "metadata": {},
   "outputs": [
    {
     "data": {
      "text/plain": [
       "<matplotlib.axes._subplots.AxesSubplot at 0x7f535f8a2908>"
      ]
     },
     "execution_count": 49,
     "metadata": {},
     "output_type": "execute_result"
    },
    {
     "data": {
      "image/png": "[encoded data removed]",
      "text/plain": [
       "<Figure size 432x288 with 1 Axes>"
      ]
     },
     "metadata": {},
     "output_type": "display_data"
    }
   ],
   "source": [
    "train_data.plot.scatter(x = \"AMT_INCOME_TOTAL\", y = \"TARGET\")"
   ]
  },
  {
   "cell_type": "code",
   "execution_count": 50,
   "metadata": {},
   "outputs": [
    {
     "data": {
      "text/plain": [
       "<matplotlib.axes._subplots.AxesSubplot at 0x7f535f80c518>"
      ]
     },
     "execution_count": 50,
     "metadata": {},
     "output_type": "execute_result"
    },
    {
     "data": {
      "image/png": "[encoded data removed]",
      "text/plain": [
       "<Figure size 432x288 with 1 Axes>"
      ]
     },
     "metadata": {},
     "output_type": "display_data"
    }
   ],
   "source": [
    "train_data.plot.scatter(x = \"AMT_CREDIT\", y = \"TARGET\")"
   ]
  },
  {
   "cell_type": "code",
   "execution_count": 71,
   "metadata": {},
   "outputs": [
    {
     "data": {
      "text/plain": [
       "<matplotlib.axes._subplots.AxesSubplot at 0x7f5359754630>"
      ]
     },
     "execution_count": 71,
     "metadata": {},
     "output_type": "execute_result"
    },
    {
     "data": {
      "image/png": "[encoded data removed]",
      "text/plain": [
       "<Figure size 432x288 with 1 Axes>"
      ]
     },
     "metadata": {},
     "output_type": "display_data"
    }
   ],
   "source": [
    "train_data.plot.scatter(x = \"AMT_ANNUITY\", y = \"TARGET\")"
   ]
  },
  {
   "cell_type": "code",
   "execution_count": 52,
   "metadata": {},
   "outputs": [],
   "source": [
    "col_list = [\"NAME_CONTRACT_TYPE\",\"CODE_GENDER\", \"FLAG_OWN_CAR\", \"FLAG_OWN_REALTY\", \"CNT_CHILDREN\", \"AMT_INCOME_TOTAL\", \"AMT_CREDIT\", \"AMT_ANNUITY\"]"
   ]
  },
  {
   "cell_type": "code",
   "execution_count": 53,
   "metadata": {},
   "outputs": [],
   "source": [
    "train_x = train_data[col_list]\n",
    "train_y = train_data[\"TARGET\"]"
   ]
  },
  {
   "cell_type": "code",
   "execution_count": 54,
   "metadata": {},
   "outputs": [
    {
     "data": {
      "text/plain": [
       "NAME_CONTRACT_TYPE    False\n",
       "CODE_GENDER           False\n",
       "FLAG_OWN_CAR          False\n",
       "FLAG_OWN_REALTY       False\n",
       "CNT_CHILDREN          False\n",
       "AMT_INCOME_TOTAL      False\n",
       "AMT_CREDIT            False\n",
       "AMT_ANNUITY            True\n",
       "dtype: bool"
      ]
     },
     "execution_count": 54,
     "metadata": {},
     "output_type": "execute_result"
    }
   ],
   "source": [
    "train_x.isnull().any()"
   ]
  },
  {
   "cell_type": "code",
   "execution_count": 55,
   "metadata": {},
   "outputs": [
    {
     "data": {
      "text/plain": [
       "NAME_CONTRACT_TYPE     0\n",
       "CODE_GENDER            0\n",
       "FLAG_OWN_CAR           0\n",
       "FLAG_OWN_REALTY        0\n",
       "CNT_CHILDREN           0\n",
       "AMT_INCOME_TOTAL       0\n",
       "AMT_CREDIT             0\n",
       "AMT_ANNUITY           12\n",
       "dtype: int64"
      ]
     },
     "execution_count": 55,
     "metadata": {},
     "output_type": "execute_result"
    }
   ],
   "source": [
    "train_x.isnull().sum()"
   ]
  },
  {
   "cell_type": "code",
   "execution_count": 56,
   "metadata": {},
   "outputs": [
    {
     "name": "stderr",
     "output_type": "stream",
     "text": [
      "/home/denjo/.python-venv/lib/python3.5/site-packages/pandas/core/generic.py:4355: SettingWithCopyWarning: \n",
      "A value is trying to be set on a copy of a slice from a DataFrame\n",
      "\n",
      "See the caveats in the documentation: http://pandas.pydata.org/pandas-docs/stable/indexing.html#indexing-view-versus-copy\n",
      "  self._update_inplace(new_data)\n"
     ]
    }
   ],
   "source": [
    "median = train_x[\"AMT_ANNUITY\"].median()\n",
    "train_x[\"AMT_ANNUITY\"].fillna(median, inplace=True)"
   ]
  },
  {
   "cell_type": "code",
   "execution_count": 57,
   "metadata": {},
   "outputs": [
    {
     "data": {
      "text/plain": [
       "NAME_CONTRACT_TYPE    0\n",
       "CODE_GENDER           0\n",
       "FLAG_OWN_CAR          0\n",
       "FLAG_OWN_REALTY       0\n",
       "CNT_CHILDREN          0\n",
       "AMT_INCOME_TOTAL      0\n",
       "AMT_CREDIT            0\n",
       "AMT_ANNUITY           0\n",
       "dtype: int64"
      ]
     },
     "execution_count": 57,
     "metadata": {},
     "output_type": "execute_result"
    }
   ],
   "source": [
    "train_x.isnull().sum()"
   ]
  },
  {
   "cell_type": "code",
   "execution_count": 58,
   "metadata": {},
   "outputs": [],
   "source": [
    "def category_to_num(df):\n",
    "    enced = df\n",
    "    for col in df:\n",
    "        if df[col].dtype == 'object':\n",
    "            enced[col], cat = train_x[col].factorize()\n",
    "    #         print(cat)\n",
    "    #         ohe = OneHotEncoder()\n",
    "    #         enced_1hot = ohe.fit_transform(cat_enced.reshape(1,-1))\n",
    "    #         # print(enced_1hot.toarray())\n",
    "    return enced\n",
    "\n",
    "#genderは３種類"
   ]
  },
  {
   "cell_type": "code",
   "execution_count": 59,
   "metadata": {},
   "outputs": [
    {
     "name": "stderr",
     "output_type": "stream",
     "text": [
      "/home/denjo/.python-venv/lib/python3.5/site-packages/ipykernel_launcher.py:5: SettingWithCopyWarning: \n",
      "A value is trying to be set on a copy of a slice from a DataFrame.\n",
      "Try using .loc[row_indexer,col_indexer] = value instead\n",
      "\n",
      "See the caveats in the documentation: http://pandas.pydata.org/pandas-docs/stable/indexing.html#indexing-view-versus-copy\n",
      "  \"\"\"\n"
     ]
    }
   ],
   "source": [
    "train_x = category_to_num(train_x)"
   ]
  },
  {
   "cell_type": "code",
   "execution_count": 60,
   "metadata": {},
   "outputs": [],
   "source": [
    "def normalize_df(df):\n",
    "    for col in df:\n",
    "        #make int data float because of error by pytorch tensor\n",
    "        df[col] = df[col].values.astype(\"float\")\n",
    "        max = df[col].max()\n",
    "        min = df[col].min()\n",
    "        df[col] = (df[col]-min)/(max-min)\n",
    "    return df"
   ]
  },
  {
   "cell_type": "code",
   "execution_count": 61,
   "metadata": {},
   "outputs": [
    {
     "name": "stderr",
     "output_type": "stream",
     "text": [
      "/home/denjo/.python-venv/lib/python3.5/site-packages/ipykernel_launcher.py:4: SettingWithCopyWarning: \n",
      "A value is trying to be set on a copy of a slice from a DataFrame.\n",
      "Try using .loc[row_indexer,col_indexer] = value instead\n",
      "\n",
      "See the caveats in the documentation: http://pandas.pydata.org/pandas-docs/stable/indexing.html#indexing-view-versus-copy\n",
      "  after removing the cwd from sys.path.\n",
      "/home/denjo/.python-venv/lib/python3.5/site-packages/ipykernel_launcher.py:7: SettingWithCopyWarning: \n",
      "A value is trying to be set on a copy of a slice from a DataFrame.\n",
      "Try using .loc[row_indexer,col_indexer] = value instead\n",
      "\n",
      "See the caveats in the documentation: http://pandas.pydata.org/pandas-docs/stable/indexing.html#indexing-view-versus-copy\n",
      "  import sys\n"
     ]
    }
   ],
   "source": [
    "train_x = normalize_df(train_x)"
   ]
  },
  {
   "cell_type": "code",
   "execution_count": 66,
   "metadata": {},
   "outputs": [],
   "source": [
    "train_y = train_y.values.astype(\"float\")"
   ]
  },
  {
   "cell_type": "code",
   "execution_count": 75,
   "metadata": {},
   "outputs": [
    {
     "name": "stderr",
     "output_type": "stream",
     "text": [
      "/home/denjo/.python-venv/lib/python3.5/site-packages/torch/nn/functional.py:1474: UserWarning: Using a target size (torch.Size([])) that is different to the input size (torch.Size([1])) is deprecated. Please ensure they have the same size.\n",
      "  \"Please ensure they have the same size.\".format(target.size(), input.size()))\n"
     ]
    },
    {
     "name": "stdout",
     "output_type": "stream",
     "text": [
      "[1,     0] loss: 0.000\n",
      "[1, 10000] loss: 0.291\n",
      "[1, 20000] loss: 0.280\n",
      "[1, 30000] loss: 0.285\n",
      "[1, 40000] loss: 0.286\n",
      "[1, 50000] loss: 0.278\n",
      "[1, 60000] loss: 0.276\n",
      "[1, 70000] loss: 0.282\n",
      "[1, 80000] loss: 0.281\n",
      "[1, 90000] loss: 0.285\n",
      "[1, 100000] loss: 0.287\n",
      "[1, 110000] loss: 0.299\n",
      "[1, 120000] loss: 0.279\n",
      "[1, 130000] loss: 0.283\n",
      "[1, 140000] loss: 0.283\n",
      "[1, 150000] loss: 0.291\n",
      "[1, 160000] loss: 0.276\n",
      "[1, 170000] loss: 0.279\n",
      "[1, 180000] loss: 0.277\n",
      "[1, 190000] loss: 0.277\n",
      "[1, 200000] loss: 0.281\n",
      "[1, 210000] loss: 0.287\n",
      "[1, 220000] loss: 0.276\n",
      "[1, 230000] loss: 0.276\n",
      "[1, 240000] loss: 0.270\n",
      "[1, 250000] loss: 0.296\n",
      "[1, 260000] loss: 0.277\n",
      "[1, 270000] loss: 0.271\n",
      "[1, 280000] loss: 0.278\n",
      "[1, 290000] loss: 0.278\n",
      "[1, 300000] loss: 0.279\n",
      "[2,     0] loss: 0.207\n",
      "[2, 10000] loss: 0.273\n",
      "[2, 20000] loss: 0.280\n",
      "[2, 30000] loss: 0.285\n",
      "[2, 40000] loss: 0.286\n",
      "[2, 50000] loss: 0.278\n",
      "[2, 60000] loss: 0.276\n",
      "[2, 70000] loss: 0.282\n",
      "[2, 80000] loss: 0.281\n",
      "[2, 90000] loss: 0.285\n",
      "[2, 100000] loss: 0.287\n",
      "[2, 110000] loss: 0.299\n",
      "[2, 120000] loss: 0.279\n",
      "[2, 130000] loss: 0.283\n",
      "[2, 140000] loss: 0.283\n",
      "[2, 150000] loss: 0.291\n",
      "[2, 160000] loss: 0.276\n",
      "[2, 170000] loss: 0.279\n",
      "[2, 180000] loss: 0.277\n",
      "[2, 190000] loss: 0.277\n",
      "[2, 200000] loss: 0.281\n",
      "[2, 210000] loss: 0.287\n",
      "[2, 220000] loss: 0.276\n",
      "[2, 230000] loss: 0.276\n",
      "[2, 240000] loss: 0.270\n",
      "[2, 250000] loss: 0.296\n",
      "[2, 260000] loss: 0.277\n",
      "[2, 270000] loss: 0.271\n",
      "[2, 280000] loss: 0.278\n",
      "[2, 290000] loss: 0.278\n",
      "[2, 300000] loss: 0.279\n"
     ]
    }
   ],
   "source": [
    "#課題: バッチサイズ大きくしてエポック数増やす, 強い学習モデルにする\n",
    "#difine neural network\n",
    "class Net(nn.Module):\n",
    "    def __init__(self):\n",
    "        super(Net, self).__init__()\n",
    "        self.fc1 = nn.Linear(8, 4)\n",
    "        self.fc2 = nn.Linear(4, 2)\n",
    "        self.fc3 = nn.Linear(2, 1)\n",
    "        \n",
    "    def forward(self, x):\n",
    "        x = F.relu(self.fc1(x))\n",
    "        x = F.relu(self.fc2(x))\n",
    "        x = F.sigmoid(self.fc3(x))\n",
    "        return x\n",
    "\n",
    "net = Net()\n",
    "softmax = nn.Softmax\n",
    "criterion = nn.BCELoss()\n",
    "optimizer = optim.SGD(net.parameters(), lr = 0.001, momentum = 0.9)\n",
    "running_loss = 0\n",
    "\n",
    "\n",
    "for epoch in range(2):\n",
    "    for i in range(len(train_x)):\n",
    "        inputs = torch.tensor(train_x.iloc[i,])\n",
    "        labels = torch.tensor(train_y[i])\n",
    "        optimizer.zero_grad()\n",
    "        outputs = net(inputs)\n",
    "        loss = criterion(outputs, labels)\n",
    "        loss.backward()\n",
    "        optimizer.step()\n",
    "        running_loss += loss.item()\n",
    "        if i %10000 == 0:\n",
    "            print('[%d, %5d] loss: %.3f' %\n",
    "                  (epoch + 1, i, running_loss / 10000))\n",
    "            running_loss = 0.0"
   ]
  },
  {
   "cell_type": "code",
   "execution_count": 22,
   "metadata": {},
   "outputs": [],
   "source": [
    "#test: \n",
    "accuracy = 0\n",
    "data_length = len(train_x)\n",
    "y_pred = []\n",
    "for i in range(data_length):\n",
    "    inputs = torch.tensor(train_x.iloc[i,])\n",
    "    outputs = net(inputs)\n",
    "    #if outputs.item() >= 0.5:\n",
    "    #    outputs = 1.0\n",
    "    #else:\n",
    "    #    outputs = 0.0\n",
    "    \n",
    "    \n",
    "    #if outputs == train_data.iloc[i, 1]:\n",
    "    #    accuracy += 1\n",
    "    y_pred.append(outputs.item())\n",
    "    \n",
    "#print(accuracy/data_length)"
   ]
  },
  {
   "cell_type": "code",
   "execution_count": 26,
   "metadata": {},
   "outputs": [
    {
     "data": {
      "text/plain": [
       "[1.0, 0.0, 1.0]"
      ]
     },
     "execution_count": 26,
     "metadata": {},
     "output_type": "execute_result"
    }
   ],
   "source": [
    "torch.tensor((train_x.iloc[6,]))"
   ]
  },
  {
   "cell_type": "code",
   "execution_count": null,
   "metadata": {},
   "outputs": [],
   "source": []
  }
 ],
 "metadata": {
  "kernelspec": {
   "display_name": "Python 3",
   "language": "python",
   "name": "python3"
  },
  "language_info": {
   "codemirror_mode": {
    "name": "ipython",
    "version": 3
   },
   "file_extension": ".py",
   "mimetype": "text/x-python",
   "name": "python",
   "nbconvert_exporter": "python",
   "pygments_lexer": "ipython3",
   "version": "3.5.2"
  }
 },
 "nbformat": 4,
 "nbformat_minor": 2
}
